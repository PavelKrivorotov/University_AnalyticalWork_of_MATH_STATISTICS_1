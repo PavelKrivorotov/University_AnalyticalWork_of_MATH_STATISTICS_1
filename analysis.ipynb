{
 "cells": [
  {
   "cell_type": "code",
   "execution_count": 1,
   "id": "8e978bd5",
   "metadata": {},
   "outputs": [],
   "source": [
    "import numpy as np\n",
    "import pandas as pd\n",
    "import matplotlib.pyplot as plt\n",
    "\n",
    "from scipy import stats"
   ]
  },
  {
   "cell_type": "code",
   "execution_count": null,
   "id": "2de315f0",
   "metadata": {},
   "outputs": [],
   "source": []
  },
  {
   "cell_type": "code",
   "execution_count": 2,
   "id": "b89ad6f4",
   "metadata": {},
   "outputs": [],
   "source": [
    "# Задание:\n",
    "\n",
    "# 1) Ранжировать данные по величине и найти размах выборки.\n",
    "# 2) Преобразовать точечный вариационный ряд в интервальный с числом интервалов 8.\n",
    "# 3) Построить полигон и гистограмму.\n",
    "# 4) Найти выборочные моду и медиану.\n",
    "# 5) Найти выборочное среднее, дисперсию и СКО.\n",
    "# 6) Проверить гипотезу о нормальном распределении генеральной совокупности с помощью \"a\"\n",
    "#    критерия Пирсон на уровне значимости.\n",
    "# 7) Найти доверительный интервал  для математического ожидания генеральной совокупности\n",
    "#    с надежностью \"y\"."
   ]
  },
  {
   "cell_type": "code",
   "execution_count": null,
   "id": "66e233db",
   "metadata": {},
   "outputs": [],
   "source": []
  },
  {
   "cell_type": "code",
   "execution_count": 3,
   "id": "75ecaef6",
   "metadata": {},
   "outputs": [],
   "source": [
    "# DataFrame:\n",
    "\n",
    "#    |  1   2   3   4   5   6   7   8   9   10\n",
    "# --------------------------------------------\n",
    "#  1 | 561 555 569 555 567 559 567 555 566 557\n",
    "#  2 | 580 568 561 572 563 574 542 562 542 572\n",
    "#  3 | 564 560 569 543 560 565 568 558 539 550\n",
    "#  4 | 566 563 562 546 570 582 568 565 561 554\n",
    "#  5 | 548 558 586 562 559 558 545 563 557 574\n",
    "#  6 | 550 562 557 566 559 576 560 554 552 541\n",
    "#  7 | 534 574 560 548 573 562 556 577 554 564\n",
    "#  8 | 567 546 571 563 557 552 562 550 551 566\n",
    "#  9 | 576 572 542 569 556 557 555 569 571 575\n",
    "# 10 | 556 540 557 549 577 562 552 568 554 568\n",
    "# 11 | 554 531 568 567 545 566 547 571 558 555\n",
    "# 12 | 550 555 562 550 561 552 571 559 556 558\n",
    "# 13 | 554 580 571 560 553 549 544 565 557 562\n",
    "# 14 | 580 546 538 553 541 572 544 556 542 552\n",
    "# 15 | 571 555 560 564 565 538 552 552 563 577\n",
    "# 16 | 566 560 544 548 560 549 543 560 552 570\n",
    "# 17 | 560 549 567 543 542 538 552 549 553 561\n",
    "# 18 | 566 549 543 561 547 547 587 576 567 563\n",
    "# 19 | 547 548 556 562 537 554 548 572 569 568\n",
    "# 20 | 550 558 574 560 545 560 535 546 557 561\n"
   ]
  },
  {
   "cell_type": "code",
   "execution_count": null,
   "id": "8a5c238b",
   "metadata": {},
   "outputs": [],
   "source": []
  },
  {
   "cell_type": "code",
   "execution_count": 4,
   "id": "761db1e1",
   "metadata": {},
   "outputs": [],
   "source": [
    "# Author:\n",
    "# Криворотов Павле\n",
    "\n",
    "# Number of variant [4]"
   ]
  },
  {
   "cell_type": "code",
   "execution_count": null,
   "id": "15fd21b0",
   "metadata": {},
   "outputs": [],
   "source": []
  },
  {
   "cell_type": "code",
   "execution_count": 5,
   "id": "578d38d7",
   "metadata": {},
   "outputs": [],
   "source": [
    "# Number of columns [5, 6, 8]\n",
    "col1 = \"5\"\n",
    "col2 = \"6\"\n",
    "col3 = \"8\"\n",
    "\n",
    "# Number of alpha coeff [a = 0.2]\n",
    "a_coeff = 0.2\n",
    "\n",
    "# Number of gamma coeff [y = 0.9]\n",
    "y_coeff = 0.9"
   ]
  },
  {
   "cell_type": "code",
   "execution_count": null,
   "id": "403a1450",
   "metadata": {},
   "outputs": [],
   "source": []
  },
  {
   "cell_type": "code",
   "execution_count": 6,
   "id": "a1b29346",
   "metadata": {},
   "outputs": [
    {
     "data": {
      "text/html": [
       "<div>\n",
       "<style scoped>\n",
       "    .dataframe tbody tr th:only-of-type {\n",
       "        vertical-align: middle;\n",
       "    }\n",
       "\n",
       "    .dataframe tbody tr th {\n",
       "        vertical-align: top;\n",
       "    }\n",
       "\n",
       "    .dataframe thead th {\n",
       "        text-align: right;\n",
       "    }\n",
       "</style>\n",
       "<table border=\"1\" class=\"dataframe\">\n",
       "  <thead>\n",
       "    <tr style=\"text-align: right;\">\n",
       "      <th></th>\n",
       "      <th>5</th>\n",
       "      <th>6</th>\n",
       "      <th>8</th>\n",
       "    </tr>\n",
       "  </thead>\n",
       "  <tbody>\n",
       "    <tr>\n",
       "      <th>0</th>\n",
       "      <td>567</td>\n",
       "      <td>559</td>\n",
       "      <td>555</td>\n",
       "    </tr>\n",
       "    <tr>\n",
       "      <th>1</th>\n",
       "      <td>563</td>\n",
       "      <td>574</td>\n",
       "      <td>562</td>\n",
       "    </tr>\n",
       "    <tr>\n",
       "      <th>2</th>\n",
       "      <td>560</td>\n",
       "      <td>565</td>\n",
       "      <td>558</td>\n",
       "    </tr>\n",
       "    <tr>\n",
       "      <th>3</th>\n",
       "      <td>570</td>\n",
       "      <td>582</td>\n",
       "      <td>565</td>\n",
       "    </tr>\n",
       "    <tr>\n",
       "      <th>4</th>\n",
       "      <td>559</td>\n",
       "      <td>558</td>\n",
       "      <td>563</td>\n",
       "    </tr>\n",
       "    <tr>\n",
       "      <th>5</th>\n",
       "      <td>559</td>\n",
       "      <td>576</td>\n",
       "      <td>554</td>\n",
       "    </tr>\n",
       "    <tr>\n",
       "      <th>6</th>\n",
       "      <td>573</td>\n",
       "      <td>562</td>\n",
       "      <td>577</td>\n",
       "    </tr>\n",
       "    <tr>\n",
       "      <th>7</th>\n",
       "      <td>557</td>\n",
       "      <td>552</td>\n",
       "      <td>550</td>\n",
       "    </tr>\n",
       "    <tr>\n",
       "      <th>8</th>\n",
       "      <td>556</td>\n",
       "      <td>557</td>\n",
       "      <td>569</td>\n",
       "    </tr>\n",
       "    <tr>\n",
       "      <th>9</th>\n",
       "      <td>577</td>\n",
       "      <td>562</td>\n",
       "      <td>568</td>\n",
       "    </tr>\n",
       "    <tr>\n",
       "      <th>10</th>\n",
       "      <td>545</td>\n",
       "      <td>566</td>\n",
       "      <td>571</td>\n",
       "    </tr>\n",
       "    <tr>\n",
       "      <th>11</th>\n",
       "      <td>561</td>\n",
       "      <td>552</td>\n",
       "      <td>559</td>\n",
       "    </tr>\n",
       "    <tr>\n",
       "      <th>12</th>\n",
       "      <td>553</td>\n",
       "      <td>549</td>\n",
       "      <td>565</td>\n",
       "    </tr>\n",
       "    <tr>\n",
       "      <th>13</th>\n",
       "      <td>541</td>\n",
       "      <td>572</td>\n",
       "      <td>556</td>\n",
       "    </tr>\n",
       "    <tr>\n",
       "      <th>14</th>\n",
       "      <td>565</td>\n",
       "      <td>538</td>\n",
       "      <td>552</td>\n",
       "    </tr>\n",
       "    <tr>\n",
       "      <th>15</th>\n",
       "      <td>560</td>\n",
       "      <td>549</td>\n",
       "      <td>560</td>\n",
       "    </tr>\n",
       "    <tr>\n",
       "      <th>16</th>\n",
       "      <td>542</td>\n",
       "      <td>538</td>\n",
       "      <td>549</td>\n",
       "    </tr>\n",
       "    <tr>\n",
       "      <th>17</th>\n",
       "      <td>547</td>\n",
       "      <td>547</td>\n",
       "      <td>576</td>\n",
       "    </tr>\n",
       "    <tr>\n",
       "      <th>18</th>\n",
       "      <td>537</td>\n",
       "      <td>554</td>\n",
       "      <td>572</td>\n",
       "    </tr>\n",
       "    <tr>\n",
       "      <th>19</th>\n",
       "      <td>545</td>\n",
       "      <td>560</td>\n",
       "      <td>546</td>\n",
       "    </tr>\n",
       "  </tbody>\n",
       "</table>\n",
       "</div>"
      ],
      "text/plain": [
       "      5    6    8\n",
       "0   567  559  555\n",
       "1   563  574  562\n",
       "2   560  565  558\n",
       "3   570  582  565\n",
       "4   559  558  563\n",
       "5   559  576  554\n",
       "6   573  562  577\n",
       "7   557  552  550\n",
       "8   556  557  569\n",
       "9   577  562  568\n",
       "10  545  566  571\n",
       "11  561  552  559\n",
       "12  553  549  565\n",
       "13  541  572  556\n",
       "14  565  538  552\n",
       "15  560  549  560\n",
       "16  542  538  549\n",
       "17  547  547  576\n",
       "18  537  554  572\n",
       "19  545  560  546"
      ]
     },
     "execution_count": 6,
     "metadata": {},
     "output_type": "execute_result"
    }
   ],
   "source": [
    "# Create DataFrame:\n",
    "df = pd.read_csv(\"data.txt\", sep = \" \", usecols = [col1, col2, col3])\n",
    "\n",
    "df"
   ]
  },
  {
   "cell_type": "code",
   "execution_count": null,
   "id": "73f575ee",
   "metadata": {},
   "outputs": [],
   "source": []
  },
  {
   "cell_type": "code",
   "execution_count": null,
   "id": "37a4bc0d",
   "metadata": {},
   "outputs": [],
   "source": []
  },
  {
   "cell_type": "code",
   "execution_count": 7,
   "id": "aea67750",
   "metadata": {},
   "outputs": [],
   "source": [
    "# \n",
    "# \n",
    "# Пункт первый: Ранжировать данные по величине и найти размах выборки.\n",
    "# \n",
    "# "
   ]
  },
  {
   "cell_type": "code",
   "execution_count": null,
   "id": "c89fbf93",
   "metadata": {},
   "outputs": [],
   "source": []
  },
  {
   "cell_type": "code",
   "execution_count": 8,
   "id": "1c26b70c",
   "metadata": {},
   "outputs": [
    {
     "data": {
      "text/plain": [
       "5    537\n",
       "6    538\n",
       "8    546\n",
       "dtype: int64"
      ]
     },
     "execution_count": 8,
     "metadata": {},
     "output_type": "execute_result"
    }
   ],
   "source": [
    "# Определяем минимальное значение для каждого столбца в датафрейме:\n",
    "min_by_columns = df.min()\n",
    "\n",
    "min_by_columns"
   ]
  },
  {
   "cell_type": "code",
   "execution_count": null,
   "id": "904bafb2",
   "metadata": {},
   "outputs": [],
   "source": []
  },
  {
   "cell_type": "code",
   "execution_count": 9,
   "id": "6c8c6c88",
   "metadata": {},
   "outputs": [
    {
     "data": {
      "text/plain": [
       "537"
      ]
     },
     "execution_count": 9,
     "metadata": {},
     "output_type": "execute_result"
    }
   ],
   "source": [
    "# Определяем минимальное значение для всего датафрейма:\n",
    "min_by_dataframe = min_by_columns.min()\n",
    "\n",
    "min_by_dataframe"
   ]
  },
  {
   "cell_type": "code",
   "execution_count": null,
   "id": "72cd5cf0",
   "metadata": {},
   "outputs": [],
   "source": []
  },
  {
   "cell_type": "code",
   "execution_count": 10,
   "id": "d482fe59",
   "metadata": {},
   "outputs": [
    {
     "data": {
      "text/plain": [
       "5    577\n",
       "6    582\n",
       "8    577\n",
       "dtype: int64"
      ]
     },
     "execution_count": 10,
     "metadata": {},
     "output_type": "execute_result"
    }
   ],
   "source": [
    "# Определяем максимальное значение для каждого столбца в датафрейме:\n",
    "max_by_columns = df.max()\n",
    "\n",
    "max_by_columns"
   ]
  },
  {
   "cell_type": "code",
   "execution_count": null,
   "id": "29bd1d5b",
   "metadata": {},
   "outputs": [],
   "source": []
  },
  {
   "cell_type": "code",
   "execution_count": 11,
   "id": "37602ef5",
   "metadata": {},
   "outputs": [
    {
     "data": {
      "text/plain": [
       "582"
      ]
     },
     "execution_count": 11,
     "metadata": {},
     "output_type": "execute_result"
    }
   ],
   "source": [
    "# Определяем максимальное значение для всего датафрейма:\n",
    "max_by_dataframe = max_by_columns.max()\n",
    "\n",
    "max_by_dataframe"
   ]
  },
  {
   "cell_type": "code",
   "execution_count": null,
   "id": "33c0cd67",
   "metadata": {},
   "outputs": [],
   "source": []
  },
  {
   "cell_type": "code",
   "execution_count": 12,
   "id": "8523cff6",
   "metadata": {},
   "outputs": [
    {
     "data": {
      "text/plain": [
       "45"
      ]
     },
     "execution_count": 12,
     "metadata": {},
     "output_type": "execute_result"
    }
   ],
   "source": [
    "# Расчитываем размах выборки:\n",
    "range_dataframe = max_by_dataframe - min_by_dataframe\n",
    "\n",
    "range_dataframe"
   ]
  },
  {
   "cell_type": "code",
   "execution_count": null,
   "id": "10640d6d",
   "metadata": {},
   "outputs": [],
   "source": []
  },
  {
   "cell_type": "code",
   "execution_count": null,
   "id": "f091e72d",
   "metadata": {},
   "outputs": [],
   "source": []
  },
  {
   "cell_type": "code",
   "execution_count": 13,
   "id": "eaf4b5dc",
   "metadata": {},
   "outputs": [],
   "source": [
    "#\n",
    "# \n",
    "# Пункт второй: Преобразовать точечный вариационный ряд в интервальный с числом\n",
    "# интервалов 8.\n",
    "# \n",
    "# "
   ]
  },
  {
   "cell_type": "code",
   "execution_count": null,
   "id": "55beada8",
   "metadata": {},
   "outputs": [],
   "source": []
  },
  {
   "cell_type": "code",
   "execution_count": 14,
   "id": "60eb52f7",
   "metadata": {},
   "outputs": [
    {
     "data": {
      "text/plain": [
       "array([537, 538, 538, 541, 542, 545, 545, 546, 547, 547, 549, 549, 549,\n",
       "       550, 552, 552, 552, 553, 554, 554, 555, 556, 556, 557, 557, 558,\n",
       "       558, 559, 559, 559, 559, 560, 560, 560, 560, 561, 562, 562, 562,\n",
       "       563, 563, 565, 565, 565, 565, 566, 567, 568, 569, 570, 571, 572,\n",
       "       572, 573, 574, 576, 576, 577, 577, 582], dtype=int64)"
      ]
     },
     "execution_count": 14,
     "metadata": {},
     "output_type": "execute_result"
    }
   ],
   "source": [
    "# Создаём массив значений нашего датафрейма размерность массива [20, 3]:\n",
    "array_dataframe = np.array(df)\n",
    "\n",
    "# Перопределяем размер массива на [1, 60]:\n",
    "array_dataframe = np.reshape(array_dataframe, 60)\n",
    "\n",
    "# Сортируем одномерный массив с данными в порядке возрастания:\n",
    "array_dataframe.sort()\n",
    "\n",
    "array_dataframe"
   ]
  },
  {
   "cell_type": "code",
   "execution_count": null,
   "id": "02fe656c",
   "metadata": {},
   "outputs": [],
   "source": []
  },
  {
   "cell_type": "code",
   "execution_count": 15,
   "id": "c61d7869",
   "metadata": {},
   "outputs": [
    {
     "data": {
      "text/plain": [
       "array([[537., 538., 538., 541., 542.,   0.,   0.,   0.,   0.,   0.,   0.,\n",
       "          0.,   0.,   0.,   0.,   0.,   0.,   0.,   0.,   0.],\n",
       "       [545., 545., 546., 547., 547.,   0.,   0.,   0.,   0.,   0.,   0.,\n",
       "          0.,   0.,   0.,   0.,   0.,   0.,   0.,   0.,   0.],\n",
       "       [549., 549., 549., 550., 552., 552., 552., 553.,   0.,   0.,   0.,\n",
       "          0.,   0.,   0.,   0.,   0.,   0.,   0.,   0.,   0.],\n",
       "       [554., 554., 555., 556., 556., 557., 557., 558., 558., 559., 559.,\n",
       "        559., 559.,   0.,   0.,   0.,   0.,   0.,   0.,   0.],\n",
       "       [560., 560., 560., 560., 561., 562., 562., 562., 563., 563., 565.,\n",
       "        565., 565., 565.,   0.,   0.,   0.,   0.,   0.,   0.],\n",
       "       [566., 567., 568., 569., 570.,   0.,   0.,   0.,   0.,   0.,   0.,\n",
       "          0.,   0.,   0.,   0.,   0.,   0.,   0.,   0.,   0.],\n",
       "       [571., 572., 572., 573., 574., 576., 576.,   0.,   0.,   0.,   0.,\n",
       "          0.,   0.,   0.,   0.,   0.,   0.,   0.,   0.,   0.],\n",
       "       [577., 577., 582.,   0.,   0.,   0.,   0.,   0.,   0.,   0.,   0.,\n",
       "          0.,   0.,   0.,   0.,   0.,   0.,   0.,   0.,   0.]])"
      ]
     },
     "execution_count": 15,
     "metadata": {},
     "output_type": "execute_result"
    }
   ],
   "source": [
    "# Количество интервалов разбиения:\n",
    "count_intervals = 8\n",
    "\n",
    "# Определяем приращение для всех интервалов:\n",
    "delta_range_dataframe = range_dataframe / count_intervals\n",
    "\n",
    "# Массив датафрейма с разбиением на 8 интервалов\n",
    "array_intervals_dataframe = np.zeros((count_intervals, 20))\n",
    "\n",
    "# Массив обработанных данных:\n",
    "array_info = np.zeros((8), dtype = {\"names\": [\"x0\", \"x1\", \"xi\", \"ni\", \"hi\"],\n",
    "                                       \"formats\" : [np.float32, np.float32, np.float32,\n",
    "                                                    np.int32, np.float32]})\n",
    "\n",
    "for count in range(1, count_intervals + 1, 1):\n",
    "    start = min_by_dataframe + delta_range_dataframe * (count - 1)\n",
    "    stop = min_by_dataframe + delta_range_dataframe * count\n",
    "    \n",
    "    ind = 0\n",
    "    for index in range(len(array_dataframe)):\n",
    "        if (array_dataframe[index] >= start and array_dataframe[index] < stop):\n",
    "            array_intervals_dataframe[count - 1][ind] = array_dataframe[index]\n",
    "            ind += 1\n",
    "\n",
    "    if (count == count_intervals):\n",
    "        array_intervals_dataframe[count - 1][ind] = array_dataframe[-1]\n",
    "        ind += 1\n",
    "\n",
    "    array_info[count - 1][0] = start\n",
    "    array_info[count - 1][1] = stop\n",
    "    array_info[count - 1][2] = (start + stop) / 2\n",
    "    array_info[count - 1][3] = ind\n",
    "    array_info[count - 1][4] = delta_range_dataframe\n",
    "    \n",
    "    \n",
    "array_intervals_dataframe"
   ]
  },
  {
   "cell_type": "code",
   "execution_count": 16,
   "id": "50284ebf",
   "metadata": {},
   "outputs": [
    {
     "data": {
      "text/plain": [
       "array([(537.   , 542.625, 539.8125,  5, 5.625),\n",
       "       (542.625, 548.25 , 545.4375,  5, 5.625),\n",
       "       (548.25 , 553.875, 551.0625,  8, 5.625),\n",
       "       (553.875, 559.5  , 556.6875, 13, 5.625),\n",
       "       (559.5  , 565.125, 562.3125, 14, 5.625),\n",
       "       (565.125, 570.75 , 567.9375,  5, 5.625),\n",
       "       (570.75 , 576.375, 573.5625,  7, 5.625),\n",
       "       (576.375, 582.   , 579.1875,  3, 5.625)],\n",
       "      dtype=[('x0', '<f4'), ('x1', '<f4'), ('xi', '<f4'), ('ni', '<i4'), ('hi', '<f4')])"
      ]
     },
     "execution_count": 16,
     "metadata": {},
     "output_type": "execute_result"
    }
   ],
   "source": [
    "array_info"
   ]
  },
  {
   "cell_type": "code",
   "execution_count": null,
   "id": "f9853a89",
   "metadata": {},
   "outputs": [],
   "source": []
  },
  {
   "cell_type": "code",
   "execution_count": 17,
   "id": "c8b8feb7",
   "metadata": {},
   "outputs": [
    {
     "data": {
      "text/html": [
       "<div>\n",
       "<style scoped>\n",
       "    .dataframe tbody tr th:only-of-type {\n",
       "        vertical-align: middle;\n",
       "    }\n",
       "\n",
       "    .dataframe tbody tr th {\n",
       "        vertical-align: top;\n",
       "    }\n",
       "\n",
       "    .dataframe thead th {\n",
       "        text-align: right;\n",
       "    }\n",
       "</style>\n",
       "<table border=\"1\" class=\"dataframe\">\n",
       "  <thead>\n",
       "    <tr style=\"text-align: right;\">\n",
       "      <th></th>\n",
       "      <th>0</th>\n",
       "      <th>1</th>\n",
       "      <th>2</th>\n",
       "      <th>3</th>\n",
       "      <th>4</th>\n",
       "      <th>5</th>\n",
       "      <th>6</th>\n",
       "      <th>7</th>\n",
       "    </tr>\n",
       "  </thead>\n",
       "  <tbody>\n",
       "    <tr>\n",
       "      <th>0</th>\n",
       "      <td>537.0</td>\n",
       "      <td>545.0</td>\n",
       "      <td>549.0</td>\n",
       "      <td>554.0</td>\n",
       "      <td>560.0</td>\n",
       "      <td>566.0</td>\n",
       "      <td>571.0</td>\n",
       "      <td>577.0</td>\n",
       "    </tr>\n",
       "    <tr>\n",
       "      <th>1</th>\n",
       "      <td>538.0</td>\n",
       "      <td>545.0</td>\n",
       "      <td>549.0</td>\n",
       "      <td>554.0</td>\n",
       "      <td>560.0</td>\n",
       "      <td>567.0</td>\n",
       "      <td>572.0</td>\n",
       "      <td>577.0</td>\n",
       "    </tr>\n",
       "    <tr>\n",
       "      <th>2</th>\n",
       "      <td>538.0</td>\n",
       "      <td>546.0</td>\n",
       "      <td>549.0</td>\n",
       "      <td>555.0</td>\n",
       "      <td>560.0</td>\n",
       "      <td>568.0</td>\n",
       "      <td>572.0</td>\n",
       "      <td>582.0</td>\n",
       "    </tr>\n",
       "    <tr>\n",
       "      <th>3</th>\n",
       "      <td>541.0</td>\n",
       "      <td>547.0</td>\n",
       "      <td>550.0</td>\n",
       "      <td>556.0</td>\n",
       "      <td>560.0</td>\n",
       "      <td>569.0</td>\n",
       "      <td>573.0</td>\n",
       "      <td>0.0</td>\n",
       "    </tr>\n",
       "    <tr>\n",
       "      <th>4</th>\n",
       "      <td>542.0</td>\n",
       "      <td>547.0</td>\n",
       "      <td>552.0</td>\n",
       "      <td>556.0</td>\n",
       "      <td>561.0</td>\n",
       "      <td>570.0</td>\n",
       "      <td>574.0</td>\n",
       "      <td>0.0</td>\n",
       "    </tr>\n",
       "    <tr>\n",
       "      <th>5</th>\n",
       "      <td>0.0</td>\n",
       "      <td>0.0</td>\n",
       "      <td>552.0</td>\n",
       "      <td>557.0</td>\n",
       "      <td>562.0</td>\n",
       "      <td>0.0</td>\n",
       "      <td>576.0</td>\n",
       "      <td>0.0</td>\n",
       "    </tr>\n",
       "    <tr>\n",
       "      <th>6</th>\n",
       "      <td>0.0</td>\n",
       "      <td>0.0</td>\n",
       "      <td>552.0</td>\n",
       "      <td>557.0</td>\n",
       "      <td>562.0</td>\n",
       "      <td>0.0</td>\n",
       "      <td>576.0</td>\n",
       "      <td>0.0</td>\n",
       "    </tr>\n",
       "    <tr>\n",
       "      <th>7</th>\n",
       "      <td>0.0</td>\n",
       "      <td>0.0</td>\n",
       "      <td>553.0</td>\n",
       "      <td>558.0</td>\n",
       "      <td>562.0</td>\n",
       "      <td>0.0</td>\n",
       "      <td>0.0</td>\n",
       "      <td>0.0</td>\n",
       "    </tr>\n",
       "    <tr>\n",
       "      <th>8</th>\n",
       "      <td>0.0</td>\n",
       "      <td>0.0</td>\n",
       "      <td>0.0</td>\n",
       "      <td>558.0</td>\n",
       "      <td>563.0</td>\n",
       "      <td>0.0</td>\n",
       "      <td>0.0</td>\n",
       "      <td>0.0</td>\n",
       "    </tr>\n",
       "    <tr>\n",
       "      <th>9</th>\n",
       "      <td>0.0</td>\n",
       "      <td>0.0</td>\n",
       "      <td>0.0</td>\n",
       "      <td>559.0</td>\n",
       "      <td>563.0</td>\n",
       "      <td>0.0</td>\n",
       "      <td>0.0</td>\n",
       "      <td>0.0</td>\n",
       "    </tr>\n",
       "    <tr>\n",
       "      <th>10</th>\n",
       "      <td>0.0</td>\n",
       "      <td>0.0</td>\n",
       "      <td>0.0</td>\n",
       "      <td>559.0</td>\n",
       "      <td>565.0</td>\n",
       "      <td>0.0</td>\n",
       "      <td>0.0</td>\n",
       "      <td>0.0</td>\n",
       "    </tr>\n",
       "    <tr>\n",
       "      <th>11</th>\n",
       "      <td>0.0</td>\n",
       "      <td>0.0</td>\n",
       "      <td>0.0</td>\n",
       "      <td>559.0</td>\n",
       "      <td>565.0</td>\n",
       "      <td>0.0</td>\n",
       "      <td>0.0</td>\n",
       "      <td>0.0</td>\n",
       "    </tr>\n",
       "    <tr>\n",
       "      <th>12</th>\n",
       "      <td>0.0</td>\n",
       "      <td>0.0</td>\n",
       "      <td>0.0</td>\n",
       "      <td>559.0</td>\n",
       "      <td>565.0</td>\n",
       "      <td>0.0</td>\n",
       "      <td>0.0</td>\n",
       "      <td>0.0</td>\n",
       "    </tr>\n",
       "    <tr>\n",
       "      <th>13</th>\n",
       "      <td>0.0</td>\n",
       "      <td>0.0</td>\n",
       "      <td>0.0</td>\n",
       "      <td>0.0</td>\n",
       "      <td>565.0</td>\n",
       "      <td>0.0</td>\n",
       "      <td>0.0</td>\n",
       "      <td>0.0</td>\n",
       "    </tr>\n",
       "  </tbody>\n",
       "</table>\n",
       "</div>"
      ],
      "text/plain": [
       "        0      1      2      3      4      5      6      7\n",
       "0   537.0  545.0  549.0  554.0  560.0  566.0  571.0  577.0\n",
       "1   538.0  545.0  549.0  554.0  560.0  567.0  572.0  577.0\n",
       "2   538.0  546.0  549.0  555.0  560.0  568.0  572.0  582.0\n",
       "3   541.0  547.0  550.0  556.0  560.0  569.0  573.0    0.0\n",
       "4   542.0  547.0  552.0  556.0  561.0  570.0  574.0    0.0\n",
       "5     0.0    0.0  552.0  557.0  562.0    0.0  576.0    0.0\n",
       "6     0.0    0.0  552.0  557.0  562.0    0.0  576.0    0.0\n",
       "7     0.0    0.0  553.0  558.0  562.0    0.0    0.0    0.0\n",
       "8     0.0    0.0    0.0  558.0  563.0    0.0    0.0    0.0\n",
       "9     0.0    0.0    0.0  559.0  563.0    0.0    0.0    0.0\n",
       "10    0.0    0.0    0.0  559.0  565.0    0.0    0.0    0.0\n",
       "11    0.0    0.0    0.0  559.0  565.0    0.0    0.0    0.0\n",
       "12    0.0    0.0    0.0  559.0  565.0    0.0    0.0    0.0\n",
       "13    0.0    0.0    0.0    0.0  565.0    0.0    0.0    0.0"
      ]
     },
     "execution_count": 17,
     "metadata": {},
     "output_type": "execute_result"
    }
   ],
   "source": [
    "df10  = pd.DataFrame(array_intervals_dataframe)\n",
    "\n",
    "df10 = df10.T.loc[:13]\n",
    "\n",
    "df10"
   ]
  },
  {
   "cell_type": "markdown",
   "id": "c222bc37",
   "metadata": {},
   "source": []
  },
  {
   "cell_type": "code",
   "execution_count": 18,
   "id": "3d8ade19",
   "metadata": {},
   "outputs": [
    {
     "data": {
      "text/html": [
       "<div>\n",
       "<style scoped>\n",
       "    .dataframe tbody tr th:only-of-type {\n",
       "        vertical-align: middle;\n",
       "    }\n",
       "\n",
       "    .dataframe tbody tr th {\n",
       "        vertical-align: top;\n",
       "    }\n",
       "\n",
       "    .dataframe thead th {\n",
       "        text-align: right;\n",
       "    }\n",
       "</style>\n",
       "<table border=\"1\" class=\"dataframe\">\n",
       "  <thead>\n",
       "    <tr style=\"text-align: right;\">\n",
       "      <th></th>\n",
       "      <th>x0</th>\n",
       "      <th>x1</th>\n",
       "      <th>xi</th>\n",
       "      <th>ni</th>\n",
       "      <th>hi</th>\n",
       "    </tr>\n",
       "  </thead>\n",
       "  <tbody>\n",
       "    <tr>\n",
       "      <th>0</th>\n",
       "      <td>537.000</td>\n",
       "      <td>542.625</td>\n",
       "      <td>539.8125</td>\n",
       "      <td>5</td>\n",
       "      <td>5.625</td>\n",
       "    </tr>\n",
       "    <tr>\n",
       "      <th>1</th>\n",
       "      <td>542.625</td>\n",
       "      <td>548.250</td>\n",
       "      <td>545.4375</td>\n",
       "      <td>5</td>\n",
       "      <td>5.625</td>\n",
       "    </tr>\n",
       "    <tr>\n",
       "      <th>2</th>\n",
       "      <td>548.250</td>\n",
       "      <td>553.875</td>\n",
       "      <td>551.0625</td>\n",
       "      <td>8</td>\n",
       "      <td>5.625</td>\n",
       "    </tr>\n",
       "    <tr>\n",
       "      <th>3</th>\n",
       "      <td>553.875</td>\n",
       "      <td>559.500</td>\n",
       "      <td>556.6875</td>\n",
       "      <td>13</td>\n",
       "      <td>5.625</td>\n",
       "    </tr>\n",
       "    <tr>\n",
       "      <th>4</th>\n",
       "      <td>559.500</td>\n",
       "      <td>565.125</td>\n",
       "      <td>562.3125</td>\n",
       "      <td>14</td>\n",
       "      <td>5.625</td>\n",
       "    </tr>\n",
       "    <tr>\n",
       "      <th>5</th>\n",
       "      <td>565.125</td>\n",
       "      <td>570.750</td>\n",
       "      <td>567.9375</td>\n",
       "      <td>5</td>\n",
       "      <td>5.625</td>\n",
       "    </tr>\n",
       "    <tr>\n",
       "      <th>6</th>\n",
       "      <td>570.750</td>\n",
       "      <td>576.375</td>\n",
       "      <td>573.5625</td>\n",
       "      <td>7</td>\n",
       "      <td>5.625</td>\n",
       "    </tr>\n",
       "    <tr>\n",
       "      <th>7</th>\n",
       "      <td>576.375</td>\n",
       "      <td>582.000</td>\n",
       "      <td>579.1875</td>\n",
       "      <td>3</td>\n",
       "      <td>5.625</td>\n",
       "    </tr>\n",
       "  </tbody>\n",
       "</table>\n",
       "</div>"
      ],
      "text/plain": [
       "        x0       x1        xi  ni     hi\n",
       "0  537.000  542.625  539.8125   5  5.625\n",
       "1  542.625  548.250  545.4375   5  5.625\n",
       "2  548.250  553.875  551.0625   8  5.625\n",
       "3  553.875  559.500  556.6875  13  5.625\n",
       "4  559.500  565.125  562.3125  14  5.625\n",
       "5  565.125  570.750  567.9375   5  5.625\n",
       "6  570.750  576.375  573.5625   7  5.625\n",
       "7  576.375  582.000  579.1875   3  5.625"
      ]
     },
     "execution_count": 18,
     "metadata": {},
     "output_type": "execute_result"
    }
   ],
   "source": [
    "# Создадим новый датафрейм на основе информации из массива array_info: \n",
    "df2 = pd.DataFrame(array_info)\n",
    "\n",
    "df2"
   ]
  },
  {
   "cell_type": "code",
   "execution_count": null,
   "id": "300da85e",
   "metadata": {},
   "outputs": [],
   "source": []
  },
  {
   "cell_type": "code",
   "execution_count": 19,
   "id": "c6af84b1",
   "metadata": {},
   "outputs": [
    {
     "data": {
      "text/plain": [
       "60"
      ]
     },
     "execution_count": 19,
     "metadata": {},
     "output_type": "execute_result"
    }
   ],
   "source": [
    "# Посчитаем количесвто значений в выборке:\n",
    "df2[\"ni\"].sum()"
   ]
  },
  {
   "cell_type": "code",
   "execution_count": null,
   "id": "3da72ee5",
   "metadata": {},
   "outputs": [],
   "source": []
  },
  {
   "cell_type": "code",
   "execution_count": null,
   "id": "70fd63e9",
   "metadata": {},
   "outputs": [],
   "source": []
  },
  {
   "cell_type": "code",
   "execution_count": 20,
   "id": "422d7690",
   "metadata": {},
   "outputs": [],
   "source": [
    "# \n",
    "# \n",
    "# Пункт третий: Построить полигон и гистограмму.\n",
    "# \n",
    "# "
   ]
  },
  {
   "cell_type": "code",
   "execution_count": null,
   "id": "296a496d",
   "metadata": {},
   "outputs": [],
   "source": []
  },
  {
   "cell_type": "code",
   "execution_count": 21,
   "id": "e74c89fe",
   "metadata": {},
   "outputs": [
    {
     "data": {
      "image/png": "[encoded data removed]",
      "text/plain": [
       "<Figure size 640x480 with 1 Axes>"
      ]
     },
     "metadata": {},
     "output_type": "display_data"
    }
   ],
   "source": [
    "# Строим полигон:\n",
    "fig, ax = plt.subplots()\n",
    "\n",
    "ax.plot(df2[\"xi\"], df2[\"ni\"], linewidth=2.0)\n",
    "\n",
    "plt.show()"
   ]
  },
  {
   "cell_type": "code",
   "execution_count": null,
   "id": "14488498",
   "metadata": {},
   "outputs": [],
   "source": []
  },
  {
   "cell_type": "code",
   "execution_count": 22,
   "id": "7e10634d",
   "metadata": {},
   "outputs": [
    {
     "data": {
      "image/png": "[encoded data removed]",
      "text/plain": [
       "<Figure size 640x480 with 1 Axes>"
      ]
     },
     "metadata": {},
     "output_type": "display_data"
    }
   ],
   "source": [
    "# Строим гистограмму\n",
    "fig, ax = plt.subplots()\n",
    "\n",
    "ax.bar(df2[\"xi\"], df2[\"ni\"], width = df2[\"hi\"], edgecolor=\"white\", linewidth=0.7)\n",
    "\n",
    "plt.show()"
   ]
  },
  {
   "cell_type": "code",
   "execution_count": null,
   "id": "97e8f174",
   "metadata": {},
   "outputs": [],
   "source": []
  },
  {
   "cell_type": "code",
   "execution_count": null,
   "id": "853725aa",
   "metadata": {},
   "outputs": [],
   "source": []
  },
  {
   "cell_type": "code",
   "execution_count": 23,
   "id": "e68cfd9f",
   "metadata": {},
   "outputs": [],
   "source": [
    "# \n",
    "# \n",
    "# Пункт четвёртый: Найти выборочные моду и медиану.\n",
    "# \n",
    "# "
   ]
  },
  {
   "cell_type": "code",
   "execution_count": null,
   "id": "ca12dcf6",
   "metadata": {},
   "outputs": [],
   "source": []
  },
  {
   "cell_type": "code",
   "execution_count": 24,
   "id": "0936f147",
   "metadata": {},
   "outputs": [
    {
     "data": {
      "text/plain": [
       "0    539.8125\n",
       "1    545.4375\n",
       "2    551.0625\n",
       "3    556.6875\n",
       "4    562.3125\n",
       "5    567.9375\n",
       "6    573.5625\n",
       "7    579.1875\n",
       "Name: xi, dtype: float32"
      ]
     },
     "execution_count": 24,
     "metadata": {},
     "output_type": "execute_result"
    }
   ],
   "source": [
    "# Расчитаем \"Моду\" для столбца \"xi\":\n",
    "df2[\"xi\"].mode()"
   ]
  },
  {
   "cell_type": "code",
   "execution_count": null,
   "id": "fc1ccae3",
   "metadata": {},
   "outputs": [],
   "source": []
  },
  {
   "cell_type": "code",
   "execution_count": 25,
   "id": "cf5fb8f4",
   "metadata": {},
   "outputs": [
    {
     "data": {
      "text/plain": [
       "559.5"
      ]
     },
     "execution_count": 25,
     "metadata": {},
     "output_type": "execute_result"
    }
   ],
   "source": [
    "# Расчитаем \"Медиану\" для столбца \"xi\":\n",
    "df2[\"xi\"].median()"
   ]
  },
  {
   "cell_type": "code",
   "execution_count": null,
   "id": "f12e427b",
   "metadata": {},
   "outputs": [],
   "source": []
  },
  {
   "cell_type": "code",
   "execution_count": null,
   "id": "6d2e89f3",
   "metadata": {},
   "outputs": [],
   "source": []
  },
  {
   "cell_type": "code",
   "execution_count": 26,
   "id": "f10e11d2",
   "metadata": {},
   "outputs": [],
   "source": [
    "# \n",
    "# \n",
    "# Пункт пятый: Найти выборочное среднее, дисперсию и СКО.\n",
    "# \n",
    "# "
   ]
  },
  {
   "cell_type": "code",
   "execution_count": null,
   "id": "5e41a8b8",
   "metadata": {},
   "outputs": [],
   "source": []
  },
  {
   "cell_type": "code",
   "execution_count": 30,
   "id": "ebc60dd0",
   "metadata": {},
   "outputs": [
    {
     "data": {
      "text/html": [
       "<div>\n",
       "<style scoped>\n",
       "    .dataframe tbody tr th:only-of-type {\n",
       "        vertical-align: middle;\n",
       "    }\n",
       "\n",
       "    .dataframe tbody tr th {\n",
       "        vertical-align: top;\n",
       "    }\n",
       "\n",
       "    .dataframe thead th {\n",
       "        text-align: right;\n",
       "    }\n",
       "</style>\n",
       "<table border=\"1\" class=\"dataframe\">\n",
       "  <thead>\n",
       "    <tr style=\"text-align: right;\">\n",
       "      <th></th>\n",
       "      <th>x0</th>\n",
       "      <th>x1</th>\n",
       "      <th>xi</th>\n",
       "      <th>ni</th>\n",
       "      <th>hi</th>\n",
       "    </tr>\n",
       "  </thead>\n",
       "  <tbody>\n",
       "    <tr>\n",
       "      <th>0</th>\n",
       "      <td>537.000</td>\n",
       "      <td>542.625</td>\n",
       "      <td>539.8125</td>\n",
       "      <td>5</td>\n",
       "      <td>5.625</td>\n",
       "    </tr>\n",
       "    <tr>\n",
       "      <th>1</th>\n",
       "      <td>542.625</td>\n",
       "      <td>548.250</td>\n",
       "      <td>545.4375</td>\n",
       "      <td>5</td>\n",
       "      <td>5.625</td>\n",
       "    </tr>\n",
       "    <tr>\n",
       "      <th>2</th>\n",
       "      <td>548.250</td>\n",
       "      <td>553.875</td>\n",
       "      <td>551.0625</td>\n",
       "      <td>8</td>\n",
       "      <td>5.625</td>\n",
       "    </tr>\n",
       "    <tr>\n",
       "      <th>3</th>\n",
       "      <td>553.875</td>\n",
       "      <td>559.500</td>\n",
       "      <td>556.6875</td>\n",
       "      <td>13</td>\n",
       "      <td>5.625</td>\n",
       "    </tr>\n",
       "    <tr>\n",
       "      <th>4</th>\n",
       "      <td>559.500</td>\n",
       "      <td>565.125</td>\n",
       "      <td>562.3125</td>\n",
       "      <td>14</td>\n",
       "      <td>5.625</td>\n",
       "    </tr>\n",
       "    <tr>\n",
       "      <th>5</th>\n",
       "      <td>565.125</td>\n",
       "      <td>570.750</td>\n",
       "      <td>567.9375</td>\n",
       "      <td>5</td>\n",
       "      <td>5.625</td>\n",
       "    </tr>\n",
       "    <tr>\n",
       "      <th>6</th>\n",
       "      <td>570.750</td>\n",
       "      <td>576.375</td>\n",
       "      <td>573.5625</td>\n",
       "      <td>7</td>\n",
       "      <td>5.625</td>\n",
       "    </tr>\n",
       "    <tr>\n",
       "      <th>7</th>\n",
       "      <td>576.375</td>\n",
       "      <td>582.000</td>\n",
       "      <td>579.1875</td>\n",
       "      <td>3</td>\n",
       "      <td>5.625</td>\n",
       "    </tr>\n",
       "  </tbody>\n",
       "</table>\n",
       "</div>"
      ],
      "text/plain": [
       "        x0       x1        xi  ni     hi\n",
       "0  537.000  542.625  539.8125   5  5.625\n",
       "1  542.625  548.250  545.4375   5  5.625\n",
       "2  548.250  553.875  551.0625   8  5.625\n",
       "3  553.875  559.500  556.6875  13  5.625\n",
       "4  559.500  565.125  562.3125  14  5.625\n",
       "5  565.125  570.750  567.9375   5  5.625\n",
       "6  570.750  576.375  573.5625   7  5.625\n",
       "7  576.375  582.000  579.1875   3  5.625"
      ]
     },
     "execution_count": 30,
     "metadata": {},
     "output_type": "execute_result"
    }
   ],
   "source": [
    "# Всомним наш преобразованный датафрейм df2:\n",
    "df2"
   ]
  },
  {
   "cell_type": "code",
   "execution_count": null,
   "id": "a943192c",
   "metadata": {},
   "outputs": [],
   "source": []
  },
  {
   "cell_type": "code",
   "execution_count": 31,
   "id": "6d453515",
   "metadata": {},
   "outputs": [
    {
     "data": {
      "text/plain": [
       "60"
      ]
     },
     "execution_count": 31,
     "metadata": {},
     "output_type": "execute_result"
    }
   ],
   "source": [
    "# Общее количество исследуемых данных\n",
    "all_count = df2[\"ni\"].sum()\n",
    "\n",
    "all_count"
   ]
  },
  {
   "cell_type": "code",
   "execution_count": null,
   "id": "1ee24a82",
   "metadata": {},
   "outputs": [],
   "source": []
  },
  {
   "cell_type": "code",
   "execution_count": 32,
   "id": "14fc18ed",
   "metadata": {},
   "outputs": [
    {
     "data": {
      "text/html": [
       "<div>\n",
       "<style scoped>\n",
       "    .dataframe tbody tr th:only-of-type {\n",
       "        vertical-align: middle;\n",
       "    }\n",
       "\n",
       "    .dataframe tbody tr th {\n",
       "        vertical-align: top;\n",
       "    }\n",
       "\n",
       "    .dataframe thead th {\n",
       "        text-align: right;\n",
       "    }\n",
       "</style>\n",
       "<table border=\"1\" class=\"dataframe\">\n",
       "  <thead>\n",
       "    <tr style=\"text-align: right;\">\n",
       "      <th></th>\n",
       "      <th>x0</th>\n",
       "      <th>x1</th>\n",
       "      <th>xi</th>\n",
       "      <th>ni</th>\n",
       "      <th>hi</th>\n",
       "      <th>xi*ni</th>\n",
       "      <th>(xi)^2*ni</th>\n",
       "    </tr>\n",
       "  </thead>\n",
       "  <tbody>\n",
       "    <tr>\n",
       "      <th>0</th>\n",
       "      <td>537.000</td>\n",
       "      <td>542.625</td>\n",
       "      <td>539.8125</td>\n",
       "      <td>5</td>\n",
       "      <td>5.625</td>\n",
       "      <td>2699.0625</td>\n",
       "      <td>1.456988e+06</td>\n",
       "    </tr>\n",
       "    <tr>\n",
       "      <th>1</th>\n",
       "      <td>542.625</td>\n",
       "      <td>548.250</td>\n",
       "      <td>545.4375</td>\n",
       "      <td>5</td>\n",
       "      <td>5.625</td>\n",
       "      <td>2727.1875</td>\n",
       "      <td>1.487510e+06</td>\n",
       "    </tr>\n",
       "    <tr>\n",
       "      <th>2</th>\n",
       "      <td>548.250</td>\n",
       "      <td>553.875</td>\n",
       "      <td>551.0625</td>\n",
       "      <td>8</td>\n",
       "      <td>5.625</td>\n",
       "      <td>4408.5000</td>\n",
       "      <td>2.429359e+06</td>\n",
       "    </tr>\n",
       "    <tr>\n",
       "      <th>3</th>\n",
       "      <td>553.875</td>\n",
       "      <td>559.500</td>\n",
       "      <td>556.6875</td>\n",
       "      <td>13</td>\n",
       "      <td>5.625</td>\n",
       "      <td>7236.9375</td>\n",
       "      <td>4.028713e+06</td>\n",
       "    </tr>\n",
       "    <tr>\n",
       "      <th>4</th>\n",
       "      <td>559.500</td>\n",
       "      <td>565.125</td>\n",
       "      <td>562.3125</td>\n",
       "      <td>14</td>\n",
       "      <td>5.625</td>\n",
       "      <td>7872.3750</td>\n",
       "      <td>4.426735e+06</td>\n",
       "    </tr>\n",
       "    <tr>\n",
       "      <th>5</th>\n",
       "      <td>565.125</td>\n",
       "      <td>570.750</td>\n",
       "      <td>567.9375</td>\n",
       "      <td>5</td>\n",
       "      <td>5.625</td>\n",
       "      <td>2839.6875</td>\n",
       "      <td>1.612765e+06</td>\n",
       "    </tr>\n",
       "    <tr>\n",
       "      <th>6</th>\n",
       "      <td>570.750</td>\n",
       "      <td>576.375</td>\n",
       "      <td>573.5625</td>\n",
       "      <td>7</td>\n",
       "      <td>5.625</td>\n",
       "      <td>4014.9375</td>\n",
       "      <td>2.302818e+06</td>\n",
       "    </tr>\n",
       "    <tr>\n",
       "      <th>7</th>\n",
       "      <td>576.375</td>\n",
       "      <td>582.000</td>\n",
       "      <td>579.1875</td>\n",
       "      <td>3</td>\n",
       "      <td>5.625</td>\n",
       "      <td>1737.5625</td>\n",
       "      <td>1.006374e+06</td>\n",
       "    </tr>\n",
       "  </tbody>\n",
       "</table>\n",
       "</div>"
      ],
      "text/plain": [
       "        x0       x1        xi  ni     hi      xi*ni     (xi)^2*ni\n",
       "0  537.000  542.625  539.8125   5  5.625  2699.0625  1.456988e+06\n",
       "1  542.625  548.250  545.4375   5  5.625  2727.1875  1.487510e+06\n",
       "2  548.250  553.875  551.0625   8  5.625  4408.5000  2.429359e+06\n",
       "3  553.875  559.500  556.6875  13  5.625  7236.9375  4.028713e+06\n",
       "4  559.500  565.125  562.3125  14  5.625  7872.3750  4.426735e+06\n",
       "5  565.125  570.750  567.9375   5  5.625  2839.6875  1.612765e+06\n",
       "6  570.750  576.375  573.5625   7  5.625  4014.9375  2.302818e+06\n",
       "7  576.375  582.000  579.1875   3  5.625  1737.5625  1.006374e+06"
      ]
     },
     "execution_count": 32,
     "metadata": {},
     "output_type": "execute_result"
    }
   ],
   "source": [
    "# Изменим наш датафрейм df2, добавив два столбца: xi*ni и (xi)^2*ni:\n",
    "df3 = df2\n",
    "df3 = df3.assign(i1 = lambda x: x[\"xi\"] * x[\"ni\"],\n",
    "                 i2 = lambda x: x[\"i1\"] * x[\"xi\"])\n",
    "\n",
    "# Переименовываем столбцы на понятные названия:\n",
    "df3 = df3.rename(columns = {\"i1\" : \"xi*ni\", \"i2\" : \"(xi)^2*ni\"})\n",
    "\n",
    "df3"
   ]
  },
  {
   "cell_type": "code",
   "execution_count": null,
   "id": "cd4bef85",
   "metadata": {},
   "outputs": [],
   "source": []
  },
  {
   "cell_type": "code",
   "execution_count": 33,
   "id": "2cc1bd28",
   "metadata": {},
   "outputs": [
    {
     "data": {
      "text/plain": [
       "558.9375"
      ]
     },
     "execution_count": 33,
     "metadata": {},
     "output_type": "execute_result"
    }
   ],
   "source": [
    "# Расчитаем \"Выборочную среднюю\" для столбца \"xi*ni\":\n",
    "selective_mean = df3[\"xi*ni\"].sum() / all_count\n",
    "\n",
    "selective_mean"
   ]
  },
  {
   "cell_type": "code",
   "execution_count": null,
   "id": "3f246a59",
   "metadata": {},
   "outputs": [],
   "source": []
  },
  {
   "cell_type": "code",
   "execution_count": 34,
   "id": "5644e9c8",
   "metadata": {},
   "outputs": [
    {
     "data": {
      "text/plain": [
       "109.8984375"
      ]
     },
     "execution_count": 34,
     "metadata": {},
     "output_type": "execute_result"
    }
   ],
   "source": [
    "# Расчитаем \"Выборочную дисперсию\" для столбца (xi)^2*ni:\n",
    "selective_variance = df3[\"(xi)^2*ni\"].sum() / all_count - selective_mean ** 2\n",
    "\n",
    "selective_variance"
   ]
  },
  {
   "cell_type": "code",
   "execution_count": null,
   "id": "c40ef7bd",
   "metadata": {},
   "outputs": [],
   "source": []
  },
  {
   "cell_type": "code",
   "execution_count": 35,
   "id": "6ebc188c",
   "metadata": {},
   "outputs": [
    {
     "data": {
      "text/plain": [
       "10.483245561370772"
      ]
     },
     "execution_count": 35,
     "metadata": {},
     "output_type": "execute_result"
    }
   ],
   "source": [
    "# Расчитаем \"Средне-квадратичное отклонение (СКО)\" для выборрочной дисперсии:\n",
    "selective_std = selective_variance ** 0.5\n",
    "\n",
    "selective_std"
   ]
  },
  {
   "cell_type": "code",
   "execution_count": null,
   "id": "6a31041b",
   "metadata": {},
   "outputs": [],
   "source": []
  },
  {
   "cell_type": "code",
   "execution_count": null,
   "id": "776da49c",
   "metadata": {},
   "outputs": [],
   "source": []
  },
  {
   "cell_type": "code",
   "execution_count": 39,
   "id": "84a44fd7",
   "metadata": {},
   "outputs": [],
   "source": [
    "# \n",
    "# \n",
    "# Пункт шестой: Проверить гипотезу о нормальном распределении генеральной совокупности\n",
    "# с помощью \"a\" критерия Пирсон на уровне значимости.\n",
    "# \n",
    "# "
   ]
  },
  {
   "cell_type": "code",
   "execution_count": null,
   "id": "e956ad4c",
   "metadata": {},
   "outputs": [],
   "source": []
  },
  {
   "cell_type": "code",
   "execution_count": 54,
   "id": "bda5738d",
   "metadata": {},
   "outputs": [
    {
     "data": {
      "text/html": [
       "<div>\n",
       "<style scoped>\n",
       "    .dataframe tbody tr th:only-of-type {\n",
       "        vertical-align: middle;\n",
       "    }\n",
       "\n",
       "    .dataframe tbody tr th {\n",
       "        vertical-align: top;\n",
       "    }\n",
       "\n",
       "    .dataframe thead th {\n",
       "        text-align: right;\n",
       "    }\n",
       "</style>\n",
       "<table border=\"1\" class=\"dataframe\">\n",
       "  <thead>\n",
       "    <tr style=\"text-align: right;\">\n",
       "      <th></th>\n",
       "      <th>x0</th>\n",
       "      <th>x1</th>\n",
       "      <th>xi</th>\n",
       "      <th>ni</th>\n",
       "      <th>hi</th>\n",
       "    </tr>\n",
       "  </thead>\n",
       "  <tbody>\n",
       "    <tr>\n",
       "      <th>0</th>\n",
       "      <td>537.000</td>\n",
       "      <td>542.625</td>\n",
       "      <td>539.8125</td>\n",
       "      <td>5</td>\n",
       "      <td>5.625</td>\n",
       "    </tr>\n",
       "    <tr>\n",
       "      <th>1</th>\n",
       "      <td>542.625</td>\n",
       "      <td>548.250</td>\n",
       "      <td>545.4375</td>\n",
       "      <td>5</td>\n",
       "      <td>5.625</td>\n",
       "    </tr>\n",
       "    <tr>\n",
       "      <th>2</th>\n",
       "      <td>548.250</td>\n",
       "      <td>553.875</td>\n",
       "      <td>551.0625</td>\n",
       "      <td>8</td>\n",
       "      <td>5.625</td>\n",
       "    </tr>\n",
       "    <tr>\n",
       "      <th>3</th>\n",
       "      <td>553.875</td>\n",
       "      <td>559.500</td>\n",
       "      <td>556.6875</td>\n",
       "      <td>13</td>\n",
       "      <td>5.625</td>\n",
       "    </tr>\n",
       "    <tr>\n",
       "      <th>4</th>\n",
       "      <td>559.500</td>\n",
       "      <td>565.125</td>\n",
       "      <td>562.3125</td>\n",
       "      <td>14</td>\n",
       "      <td>5.625</td>\n",
       "    </tr>\n",
       "    <tr>\n",
       "      <th>5</th>\n",
       "      <td>565.125</td>\n",
       "      <td>570.750</td>\n",
       "      <td>567.9375</td>\n",
       "      <td>5</td>\n",
       "      <td>5.625</td>\n",
       "    </tr>\n",
       "    <tr>\n",
       "      <th>6</th>\n",
       "      <td>570.750</td>\n",
       "      <td>576.375</td>\n",
       "      <td>573.5625</td>\n",
       "      <td>7</td>\n",
       "      <td>5.625</td>\n",
       "    </tr>\n",
       "    <tr>\n",
       "      <th>7</th>\n",
       "      <td>576.375</td>\n",
       "      <td>582.000</td>\n",
       "      <td>579.1875</td>\n",
       "      <td>3</td>\n",
       "      <td>5.625</td>\n",
       "    </tr>\n",
       "  </tbody>\n",
       "</table>\n",
       "</div>"
      ],
      "text/plain": [
       "        x0       x1        xi  ni     hi\n",
       "0  537.000  542.625  539.8125   5  5.625\n",
       "1  542.625  548.250  545.4375   5  5.625\n",
       "2  548.250  553.875  551.0625   8  5.625\n",
       "3  553.875  559.500  556.6875  13  5.625\n",
       "4  559.500  565.125  562.3125  14  5.625\n",
       "5  565.125  570.750  567.9375   5  5.625\n",
       "6  570.750  576.375  573.5625   7  5.625\n",
       "7  576.375  582.000  579.1875   3  5.625"
      ]
     },
     "execution_count": 54,
     "metadata": {},
     "output_type": "execute_result"
    }
   ],
   "source": [
    "# Всомним наш преобразованный датафрейм df2:\n",
    "df2"
   ]
  },
  {
   "cell_type": "code",
   "execution_count": null,
   "id": "47a1f5c9",
   "metadata": {},
   "outputs": [],
   "source": []
  },
  {
   "cell_type": "code",
   "execution_count": 55,
   "id": "3b18e679",
   "metadata": {},
   "outputs": [
    {
     "data": {
      "text/html": [
       "<div>\n",
       "<style scoped>\n",
       "    .dataframe tbody tr th:only-of-type {\n",
       "        vertical-align: middle;\n",
       "    }\n",
       "\n",
       "    .dataframe tbody tr th {\n",
       "        vertical-align: top;\n",
       "    }\n",
       "\n",
       "    .dataframe thead th {\n",
       "        text-align: right;\n",
       "    }\n",
       "</style>\n",
       "<table border=\"1\" class=\"dataframe\">\n",
       "  <thead>\n",
       "    <tr style=\"text-align: right;\">\n",
       "      <th></th>\n",
       "      <th>x0</th>\n",
       "      <th>x1</th>\n",
       "      <th>xi</th>\n",
       "      <th>ni</th>\n",
       "      <th>hi</th>\n",
       "    </tr>\n",
       "  </thead>\n",
       "  <tbody>\n",
       "    <tr>\n",
       "      <th>0</th>\n",
       "      <td>537.000</td>\n",
       "      <td>542.625</td>\n",
       "      <td>539.8125</td>\n",
       "      <td>5</td>\n",
       "      <td>5.625</td>\n",
       "    </tr>\n",
       "    <tr>\n",
       "      <th>1</th>\n",
       "      <td>542.625</td>\n",
       "      <td>548.250</td>\n",
       "      <td>545.4375</td>\n",
       "      <td>5</td>\n",
       "      <td>5.625</td>\n",
       "    </tr>\n",
       "    <tr>\n",
       "      <th>2</th>\n",
       "      <td>548.250</td>\n",
       "      <td>553.875</td>\n",
       "      <td>551.0625</td>\n",
       "      <td>8</td>\n",
       "      <td>5.625</td>\n",
       "    </tr>\n",
       "    <tr>\n",
       "      <th>3</th>\n",
       "      <td>553.875</td>\n",
       "      <td>559.500</td>\n",
       "      <td>556.6875</td>\n",
       "      <td>13</td>\n",
       "      <td>5.625</td>\n",
       "    </tr>\n",
       "    <tr>\n",
       "      <th>4</th>\n",
       "      <td>559.500</td>\n",
       "      <td>565.125</td>\n",
       "      <td>562.3125</td>\n",
       "      <td>14</td>\n",
       "      <td>5.625</td>\n",
       "    </tr>\n",
       "    <tr>\n",
       "      <th>5</th>\n",
       "      <td>565.125</td>\n",
       "      <td>570.750</td>\n",
       "      <td>567.9375</td>\n",
       "      <td>5</td>\n",
       "      <td>5.625</td>\n",
       "    </tr>\n",
       "    <tr>\n",
       "      <th>6</th>\n",
       "      <td>570.750</td>\n",
       "      <td>582.000</td>\n",
       "      <td>576.3750</td>\n",
       "      <td>10</td>\n",
       "      <td>11.250</td>\n",
       "    </tr>\n",
       "  </tbody>\n",
       "</table>\n",
       "</div>"
      ],
      "text/plain": [
       "        x0       x1        xi  ni      hi\n",
       "0  537.000  542.625  539.8125   5   5.625\n",
       "1  542.625  548.250  545.4375   5   5.625\n",
       "2  548.250  553.875  551.0625   8   5.625\n",
       "3  553.875  559.500  556.6875  13   5.625\n",
       "4  559.500  565.125  562.3125  14   5.625\n",
       "5  565.125  570.750  567.9375   5   5.625\n",
       "6  570.750  582.000  576.3750  10  11.250"
      ]
     },
     "execution_count": 55,
     "metadata": {},
     "output_type": "execute_result"
    }
   ],
   "source": [
    "# Как можно заметить в строке 7 у столбца \"ni\" количество значений меньше 5,\n",
    "# в таком случае объединяем строчки 6 и 7. Тогда получим следующий датафрейм:\n",
    "\n",
    "df4 = df2.copy()\n",
    "\n",
    "df4.loc[6, \"x1\"] = df4[\"x1\"][7]\n",
    "df4.loc[6, \"xi\"] = (df4[\"x0\"][6] + df4[\"x1\"][7]) / 2\n",
    "df4.loc[6, \"ni\"] = df4[\"ni\"][6] + df4[\"ni\"][7]\n",
    "df4.loc[6, \"hi\"] = df4[\"hi\"][6] + df4[\"hi\"][7]\n",
    "\n",
    "df4 = df4.loc[:6]\n",
    "\n",
    "# Также следует отметить, что количество интервалов уменьшилось на 1:\n",
    "count_intervals -= 1\n",
    "\n",
    "df4"
   ]
  },
  {
   "cell_type": "code",
   "execution_count": null,
   "id": "75617c95",
   "metadata": {},
   "outputs": [],
   "source": []
  },
  {
   "cell_type": "code",
   "execution_count": 56,
   "id": "87fc3cbe",
   "metadata": {},
   "outputs": [
    {
     "data": {
      "image/png": "[encoded data removed]",
      "text/plain": [
       "<Figure size 640x480 with 1 Axes>"
      ]
     },
     "metadata": {},
     "output_type": "display_data"
    }
   ],
   "source": [
    "# Строим гистограмму изменённого распределения \"xi\" и \"ni/hi\"\n",
    "fig, ax = plt.subplots()\n",
    "\n",
    "ax.bar(df4[\"xi\"], df4[\"ni\"] / df4[\"hi\"], width = df4[\"hi\"], edgecolor=\"white\", linewidth=0.7)\n",
    "\n",
    "plt.show()"
   ]
  },
  {
   "cell_type": "code",
   "execution_count": null,
   "id": "805c1517",
   "metadata": {},
   "outputs": [],
   "source": []
  },
  {
   "cell_type": "code",
   "execution_count": 58,
   "id": "2d79c6f9",
   "metadata": {},
   "outputs": [
    {
     "data": {
      "text/html": [
       "<div>\n",
       "<style scoped>\n",
       "    .dataframe tbody tr th:only-of-type {\n",
       "        vertical-align: middle;\n",
       "    }\n",
       "\n",
       "    .dataframe tbody tr th {\n",
       "        vertical-align: top;\n",
       "    }\n",
       "\n",
       "    .dataframe thead th {\n",
       "        text-align: right;\n",
       "    }\n",
       "</style>\n",
       "<table border=\"1\" class=\"dataframe\">\n",
       "  <thead>\n",
       "    <tr style=\"text-align: right;\">\n",
       "      <th></th>\n",
       "      <th>x0</th>\n",
       "      <th>x1</th>\n",
       "      <th>xi</th>\n",
       "      <th>ni</th>\n",
       "      <th>hi</th>\n",
       "      <th>ni * (xi - selective_mean)^2</th>\n",
       "    </tr>\n",
       "  </thead>\n",
       "  <tbody>\n",
       "    <tr>\n",
       "      <th>0</th>\n",
       "      <td>537.000</td>\n",
       "      <td>542.625</td>\n",
       "      <td>539.8125</td>\n",
       "      <td>5</td>\n",
       "      <td>5.625</td>\n",
       "      <td>1828.828125</td>\n",
       "    </tr>\n",
       "    <tr>\n",
       "      <th>1</th>\n",
       "      <td>542.625</td>\n",
       "      <td>548.250</td>\n",
       "      <td>545.4375</td>\n",
       "      <td>5</td>\n",
       "      <td>5.625</td>\n",
       "      <td>911.250000</td>\n",
       "    </tr>\n",
       "    <tr>\n",
       "      <th>2</th>\n",
       "      <td>548.250</td>\n",
       "      <td>553.875</td>\n",
       "      <td>551.0625</td>\n",
       "      <td>8</td>\n",
       "      <td>5.625</td>\n",
       "      <td>496.125000</td>\n",
       "    </tr>\n",
       "    <tr>\n",
       "      <th>3</th>\n",
       "      <td>553.875</td>\n",
       "      <td>559.500</td>\n",
       "      <td>556.6875</td>\n",
       "      <td>13</td>\n",
       "      <td>5.625</td>\n",
       "      <td>65.812500</td>\n",
       "    </tr>\n",
       "    <tr>\n",
       "      <th>4</th>\n",
       "      <td>559.500</td>\n",
       "      <td>565.125</td>\n",
       "      <td>562.3125</td>\n",
       "      <td>14</td>\n",
       "      <td>5.625</td>\n",
       "      <td>159.468750</td>\n",
       "    </tr>\n",
       "    <tr>\n",
       "      <th>5</th>\n",
       "      <td>565.125</td>\n",
       "      <td>570.750</td>\n",
       "      <td>567.9375</td>\n",
       "      <td>5</td>\n",
       "      <td>5.625</td>\n",
       "      <td>405.000000</td>\n",
       "    </tr>\n",
       "    <tr>\n",
       "      <th>6</th>\n",
       "      <td>570.750</td>\n",
       "      <td>582.000</td>\n",
       "      <td>576.3750</td>\n",
       "      <td>10</td>\n",
       "      <td>11.250</td>\n",
       "      <td>3040.664062</td>\n",
       "    </tr>\n",
       "  </tbody>\n",
       "</table>\n",
       "</div>"
      ],
      "text/plain": [
       "        x0       x1        xi  ni      hi  ni * (xi - selective_mean)^2\n",
       "0  537.000  542.625  539.8125   5   5.625                   1828.828125\n",
       "1  542.625  548.250  545.4375   5   5.625                    911.250000\n",
       "2  548.250  553.875  551.0625   8   5.625                    496.125000\n",
       "3  553.875  559.500  556.6875  13   5.625                     65.812500\n",
       "4  559.500  565.125  562.3125  14   5.625                    159.468750\n",
       "5  565.125  570.750  567.9375   5   5.625                    405.000000\n",
       "6  570.750  582.000  576.3750  10  11.250                   3040.664062"
      ]
     },
     "execution_count": 58,
     "metadata": {},
     "output_type": "execute_result"
    }
   ],
   "source": [
    "# Создадим новый датафрейм df7 на основе df4:\n",
    "df7 = df4\n",
    "\n",
    "# Добавим в df4 новый столбец ni * (xi - selective_mean)^2:\n",
    "df7 = df7.assign(i1 = lambda x: x[\"ni\"] * (x[\"xi\"] - selective_mean) ** 2)\n",
    "\n",
    "# Переименовываем столбец:\n",
    "df7 = df7.rename(columns = {\"i1\" : \"ni * (xi - selective_mean)^2\"})\n",
    "\n",
    "df7"
   ]
  },
  {
   "cell_type": "code",
   "execution_count": null,
   "id": "c242297c",
   "metadata": {},
   "outputs": [],
   "source": []
  },
  {
   "cell_type": "code",
   "execution_count": 59,
   "id": "dbc77348",
   "metadata": {},
   "outputs": [
    {
     "data": {
      "text/plain": [
       "10.819903534690132"
      ]
     },
     "execution_count": 59,
     "metadata": {},
     "output_type": "execute_result"
    }
   ],
   "source": [
    "# Расчитаем Исправленную выборочную дисперсию:\n",
    "s = (df7[\"ni * (xi - selective_mean)^2\"].sum() / (df7[\"ni\"].sum() - 1)) ** 0.5\n",
    "\n",
    "s"
   ]
  },
  {
   "cell_type": "code",
   "execution_count": null,
   "id": "e8b0c33f",
   "metadata": {},
   "outputs": [],
   "source": []
  },
  {
   "cell_type": "code",
   "execution_count": 60,
   "id": "10f76b20",
   "metadata": {},
   "outputs": [
    {
     "data": {
      "text/html": [
       "<div>\n",
       "<style scoped>\n",
       "    .dataframe tbody tr th:only-of-type {\n",
       "        vertical-align: middle;\n",
       "    }\n",
       "\n",
       "    .dataframe tbody tr th {\n",
       "        vertical-align: top;\n",
       "    }\n",
       "\n",
       "    .dataframe thead th {\n",
       "        text-align: right;\n",
       "    }\n",
       "</style>\n",
       "<table border=\"1\" class=\"dataframe\">\n",
       "  <thead>\n",
       "    <tr style=\"text-align: right;\">\n",
       "      <th></th>\n",
       "      <th>x0</th>\n",
       "      <th>x1</th>\n",
       "      <th>xi</th>\n",
       "      <th>ni</th>\n",
       "      <th>hi</th>\n",
       "      <th>pi</th>\n",
       "    </tr>\n",
       "  </thead>\n",
       "  <tbody>\n",
       "    <tr>\n",
       "      <th>0</th>\n",
       "      <td>537.000</td>\n",
       "      <td>542.625</td>\n",
       "      <td>539.8125</td>\n",
       "      <td>5</td>\n",
       "      <td>5.625</td>\n",
       "      <td>0.044519</td>\n",
       "    </tr>\n",
       "    <tr>\n",
       "      <th>1</th>\n",
       "      <td>542.625</td>\n",
       "      <td>548.250</td>\n",
       "      <td>545.4375</td>\n",
       "      <td>5</td>\n",
       "      <td>5.625</td>\n",
       "      <td>0.095811</td>\n",
       "    </tr>\n",
       "    <tr>\n",
       "      <th>2</th>\n",
       "      <td>548.250</td>\n",
       "      <td>553.875</td>\n",
       "      <td>551.0625</td>\n",
       "      <td>8</td>\n",
       "      <td>5.625</td>\n",
       "      <td>0.158298</td>\n",
       "    </tr>\n",
       "    <tr>\n",
       "      <th>3</th>\n",
       "      <td>553.875</td>\n",
       "      <td>559.500</td>\n",
       "      <td>556.6875</td>\n",
       "      <td>13</td>\n",
       "      <td>5.625</td>\n",
       "      <td>0.200798</td>\n",
       "    </tr>\n",
       "    <tr>\n",
       "      <th>4</th>\n",
       "      <td>559.500</td>\n",
       "      <td>565.125</td>\n",
       "      <td>562.3125</td>\n",
       "      <td>14</td>\n",
       "      <td>5.625</td>\n",
       "      <td>0.195562</td>\n",
       "    </tr>\n",
       "    <tr>\n",
       "      <th>5</th>\n",
       "      <td>565.125</td>\n",
       "      <td>570.750</td>\n",
       "      <td>567.9375</td>\n",
       "      <td>5</td>\n",
       "      <td>5.625</td>\n",
       "      <td>0.146233</td>\n",
       "    </tr>\n",
       "    <tr>\n",
       "      <th>6</th>\n",
       "      <td>570.750</td>\n",
       "      <td>582.000</td>\n",
       "      <td>576.3750</td>\n",
       "      <td>10</td>\n",
       "      <td>11.250</td>\n",
       "      <td>0.120950</td>\n",
       "    </tr>\n",
       "  </tbody>\n",
       "</table>\n",
       "</div>"
      ],
      "text/plain": [
       "        x0       x1        xi  ni      hi        pi\n",
       "0  537.000  542.625  539.8125   5   5.625  0.044519\n",
       "1  542.625  548.250  545.4375   5   5.625  0.095811\n",
       "2  548.250  553.875  551.0625   8   5.625  0.158298\n",
       "3  553.875  559.500  556.6875  13   5.625  0.200798\n",
       "4  559.500  565.125  562.3125  14   5.625  0.195562\n",
       "5  565.125  570.750  567.9375   5   5.625  0.146233\n",
       "6  570.750  582.000  576.3750  10  11.250  0.120950"
      ]
     },
     "execution_count": 60,
     "metadata": {},
     "output_type": "execute_result"
    }
   ],
   "source": [
    "# Создадим ноый датафрейм df5 на основе df4. Добавим новый столбец\n",
    "# вероятностей \"pi\":\n",
    "df5 = df4\n",
    "\n",
    "# Добавим столбец \"pi\":\n",
    "# df5 = df5.assign(pi = lambda x: stats.norm.cdf((x[\"x1\"] - selective_mean) / selective_std) - \n",
    "#                                 stats.norm.cdf((x[\"x0\"] - selective_mean) / selective_std))\n",
    "\n",
    "df5 = df5.assign(pi = lambda x: stats.norm.cdf((x[\"x1\"] - selective_mean) / s) - \n",
    "                                stats.norm.cdf((x[\"x0\"] - selective_mean) / s))\n",
    "\n",
    "df5"
   ]
  },
  {
   "cell_type": "code",
   "execution_count": null,
   "id": "a37b557c",
   "metadata": {},
   "outputs": [],
   "source": []
  },
  {
   "cell_type": "code",
   "execution_count": 61,
   "id": "375ae1b2",
   "metadata": {},
   "outputs": [
    {
     "data": {
      "text/plain": [
       "0.041634788334656"
      ]
     },
     "execution_count": 61,
     "metadata": {},
     "output_type": "execute_result"
    }
   ],
   "source": [
    "(stats.norm.cdf(-1.556)) - (stats.norm.cdf(-2.092))"
   ]
  },
  {
   "cell_type": "code",
   "execution_count": null,
   "id": "f786215a",
   "metadata": {},
   "outputs": [],
   "source": []
  },
  {
   "cell_type": "code",
   "execution_count": 62,
   "id": "60fc2540",
   "metadata": {},
   "outputs": [
    {
     "data": {
      "text/html": [
       "<div>\n",
       "<style scoped>\n",
       "    .dataframe tbody tr th:only-of-type {\n",
       "        vertical-align: middle;\n",
       "    }\n",
       "\n",
       "    .dataframe tbody tr th {\n",
       "        vertical-align: top;\n",
       "    }\n",
       "\n",
       "    .dataframe thead th {\n",
       "        text-align: right;\n",
       "    }\n",
       "</style>\n",
       "<table border=\"1\" class=\"dataframe\">\n",
       "  <thead>\n",
       "    <tr style=\"text-align: right;\">\n",
       "      <th></th>\n",
       "      <th>x0</th>\n",
       "      <th>x1</th>\n",
       "      <th>xi</th>\n",
       "      <th>ni</th>\n",
       "      <th>hi</th>\n",
       "      <th>pi</th>\n",
       "      <th>n'i</th>\n",
       "    </tr>\n",
       "  </thead>\n",
       "  <tbody>\n",
       "    <tr>\n",
       "      <th>0</th>\n",
       "      <td>537.000</td>\n",
       "      <td>542.625</td>\n",
       "      <td>539.8125</td>\n",
       "      <td>5</td>\n",
       "      <td>5.625</td>\n",
       "      <td>0.044519</td>\n",
       "      <td>2.671117</td>\n",
       "    </tr>\n",
       "    <tr>\n",
       "      <th>1</th>\n",
       "      <td>542.625</td>\n",
       "      <td>548.250</td>\n",
       "      <td>545.4375</td>\n",
       "      <td>5</td>\n",
       "      <td>5.625</td>\n",
       "      <td>0.095811</td>\n",
       "      <td>5.748648</td>\n",
       "    </tr>\n",
       "    <tr>\n",
       "      <th>2</th>\n",
       "      <td>548.250</td>\n",
       "      <td>553.875</td>\n",
       "      <td>551.0625</td>\n",
       "      <td>8</td>\n",
       "      <td>5.625</td>\n",
       "      <td>0.158298</td>\n",
       "      <td>9.497884</td>\n",
       "    </tr>\n",
       "    <tr>\n",
       "      <th>3</th>\n",
       "      <td>553.875</td>\n",
       "      <td>559.500</td>\n",
       "      <td>556.6875</td>\n",
       "      <td>13</td>\n",
       "      <td>5.625</td>\n",
       "      <td>0.200798</td>\n",
       "      <td>12.047895</td>\n",
       "    </tr>\n",
       "    <tr>\n",
       "      <th>4</th>\n",
       "      <td>559.500</td>\n",
       "      <td>565.125</td>\n",
       "      <td>562.3125</td>\n",
       "      <td>14</td>\n",
       "      <td>5.625</td>\n",
       "      <td>0.195562</td>\n",
       "      <td>11.733710</td>\n",
       "    </tr>\n",
       "    <tr>\n",
       "      <th>5</th>\n",
       "      <td>565.125</td>\n",
       "      <td>570.750</td>\n",
       "      <td>567.9375</td>\n",
       "      <td>5</td>\n",
       "      <td>5.625</td>\n",
       "      <td>0.146233</td>\n",
       "      <td>8.774000</td>\n",
       "    </tr>\n",
       "    <tr>\n",
       "      <th>6</th>\n",
       "      <td>570.750</td>\n",
       "      <td>582.000</td>\n",
       "      <td>576.3750</td>\n",
       "      <td>10</td>\n",
       "      <td>11.250</td>\n",
       "      <td>0.120950</td>\n",
       "      <td>7.256981</td>\n",
       "    </tr>\n",
       "  </tbody>\n",
       "</table>\n",
       "</div>"
      ],
      "text/plain": [
       "        x0       x1        xi  ni      hi        pi        n'i\n",
       "0  537.000  542.625  539.8125   5   5.625  0.044519   2.671117\n",
       "1  542.625  548.250  545.4375   5   5.625  0.095811   5.748648\n",
       "2  548.250  553.875  551.0625   8   5.625  0.158298   9.497884\n",
       "3  553.875  559.500  556.6875  13   5.625  0.200798  12.047895\n",
       "4  559.500  565.125  562.3125  14   5.625  0.195562  11.733710\n",
       "5  565.125  570.750  567.9375   5   5.625  0.146233   8.774000\n",
       "6  570.750  582.000  576.3750  10  11.250  0.120950   7.256981"
      ]
     },
     "execution_count": 62,
     "metadata": {},
     "output_type": "execute_result"
    }
   ],
   "source": [
    "# Расчитываем теоретические \"n'i\" и добавляем в df6:\n",
    "df6 = df5\n",
    "df6 = df6.assign(i1 = lambda x: x[\"ni\"].sum() * x[\"pi\"])\n",
    "\n",
    "# Переназывем столбец\n",
    "df6 = df6.rename(columns = {\"i1\" : \"n'i\"})\n",
    "\n",
    "df6"
   ]
  },
  {
   "cell_type": "code",
   "execution_count": 63,
   "id": "9d509ab4",
   "metadata": {},
   "outputs": [
    {
     "data": {
      "text/plain": [
       "57.73023484154894"
      ]
     },
     "execution_count": 63,
     "metadata": {},
     "output_type": "execute_result"
    }
   ],
   "source": [
    "df6[\"n'i\"].sum()"
   ]
  },
  {
   "cell_type": "code",
   "execution_count": 64,
   "id": "b27dbd30",
   "metadata": {},
   "outputs": [
    {
     "data": {
      "image/png": "[encoded data removed]",
      "text/plain": [
       "<Figure size 640x480 with 1 Axes>"
      ]
     },
     "metadata": {},
     "output_type": "display_data"
    }
   ],
   "source": [
    "# Строим полигон и функцию нормального распределения:\n",
    "fig, ax = plt.subplots()\n",
    "\n",
    "ax.plot(df6[\"xi\"], df6[\"n'i\"] / df6[\"hi\"], '.-r', linewidth=2.0)\n",
    "\n",
    "# Расчитываем среднее значение минимального и максимального \"x\":\n",
    "mean_x = (df6[\"x0\"].min() + df6[\"x1\"].max()) / 2\n",
    "\n",
    "# Расчитываем координаты \"x\" для функции нормального распределения:\n",
    "normal_x = np.linspace(-selective_std * 3, selective_std * 3, 100)\n",
    "\n",
    "# Расчитываем координаты \"y\" для функции нормального распределения:\n",
    "normal_y = stats.norm.pdf(normal_x, 0, selective_std)\n",
    "\n",
    "# Сдвигаем функцию нормального распределения на \"mean_x\":\n",
    "normal_x += mean_x\n",
    "\n",
    "# Расчитываем коэффициент нормирования \"k\" для графика нормального\n",
    "# распределения. Домножаем значения на расчитанный коэффициент:\n",
    "k = (df6[\"n'i\"].max() / df6[\"hi\"][3]) / normal_y.max()\n",
    "normal_y *= k\n",
    "\n",
    "ax.plot(normal_x, normal_y, '-b', linewidth=2.0)\n",
    "\n",
    "plt.show()"
   ]
  },
  {
   "cell_type": "code",
   "execution_count": null,
   "id": "52965f7f",
   "metadata": {},
   "outputs": [],
   "source": []
  },
  {
   "cell_type": "code",
   "execution_count": 65,
   "id": "ef614ee5",
   "metadata": {},
   "outputs": [
    {
     "data": {
      "text/plain": [
       "3"
      ]
     },
     "execution_count": 65,
     "metadata": {},
     "output_type": "execute_result"
    }
   ],
   "source": [
    "# У нормального закона мы оцениваем r = 2 параметра.\n",
    "\n",
    "# Количество оцениваемых параметров рассматриваемого закона распределения:\n",
    "count_params = 2\n",
    "\n",
    "# Расчитаем консатнту k - количество степеней свобод:\n",
    "k = count_intervals - count_params - 1\n",
    "\n",
    "k"
   ]
  },
  {
   "cell_type": "code",
   "execution_count": 50,
   "id": "35b02b1f",
   "metadata": {},
   "outputs": [
    {
     "data": {
      "text/plain": [
       "0.2"
      ]
     },
     "execution_count": 50,
     "metadata": {},
     "output_type": "execute_result"
    }
   ],
   "source": [
    "# Наш коэффициент Пирсона:\n",
    "a_coeff"
   ]
  },
  {
   "cell_type": "code",
   "execution_count": 51,
   "id": "bd324b1d",
   "metadata": {},
   "outputs": [
    {
     "data": {
      "text/plain": [
       "5.988616694004245"
      ]
     },
     "execution_count": 51,
     "metadata": {},
     "output_type": "execute_result"
    }
   ],
   "source": [
    "# Тогда теоретическое значение \"Кси квадрат\": Xkr = Xkr(1 - 0.2, 4):\n",
    "Xkr = stats.chi2.ppf(1 - a_coeff, k)\n",
    "\n",
    "Xkr"
   ]
  },
  {
   "cell_type": "code",
   "execution_count": null,
   "id": "7c4222cb",
   "metadata": {},
   "outputs": [],
   "source": []
  },
  {
   "cell_type": "code",
   "execution_count": null,
   "id": "8c5bfa3b",
   "metadata": {},
   "outputs": [],
   "source": []
  },
  {
   "cell_type": "code",
   "execution_count": null,
   "id": "e6f05669",
   "metadata": {},
   "outputs": [],
   "source": []
  },
  {
   "cell_type": "code",
   "execution_count": null,
   "id": "56fe34b3",
   "metadata": {},
   "outputs": [],
   "source": []
  },
  {
   "cell_type": "code",
   "execution_count": 66,
   "id": "535c62e1",
   "metadata": {
    "scrolled": true
   },
   "outputs": [
    {
     "data": {
      "text/html": [
       "<div>\n",
       "<style scoped>\n",
       "    .dataframe tbody tr th:only-of-type {\n",
       "        vertical-align: middle;\n",
       "    }\n",
       "\n",
       "    .dataframe tbody tr th {\n",
       "        vertical-align: top;\n",
       "    }\n",
       "\n",
       "    .dataframe thead th {\n",
       "        text-align: right;\n",
       "    }\n",
       "</style>\n",
       "<table border=\"1\" class=\"dataframe\">\n",
       "  <thead>\n",
       "    <tr style=\"text-align: right;\">\n",
       "      <th></th>\n",
       "      <th>ni</th>\n",
       "      <th>n'i</th>\n",
       "      <th>(ni - n'i)^2 / n'i</th>\n",
       "    </tr>\n",
       "  </thead>\n",
       "  <tbody>\n",
       "    <tr>\n",
       "      <th>0</th>\n",
       "      <td>5</td>\n",
       "      <td>2.671117</td>\n",
       "      <td>2.030498</td>\n",
       "    </tr>\n",
       "    <tr>\n",
       "      <th>1</th>\n",
       "      <td>5</td>\n",
       "      <td>5.748648</td>\n",
       "      <td>0.097497</td>\n",
       "    </tr>\n",
       "    <tr>\n",
       "      <th>2</th>\n",
       "      <td>8</td>\n",
       "      <td>9.497884</td>\n",
       "      <td>0.236227</td>\n",
       "    </tr>\n",
       "    <tr>\n",
       "      <th>3</th>\n",
       "      <td>13</td>\n",
       "      <td>12.047895</td>\n",
       "      <td>0.075242</td>\n",
       "    </tr>\n",
       "    <tr>\n",
       "      <th>4</th>\n",
       "      <td>14</td>\n",
       "      <td>11.733710</td>\n",
       "      <td>0.437719</td>\n",
       "    </tr>\n",
       "    <tr>\n",
       "      <th>5</th>\n",
       "      <td>5</td>\n",
       "      <td>8.774000</td>\n",
       "      <td>1.623328</td>\n",
       "    </tr>\n",
       "    <tr>\n",
       "      <th>6</th>\n",
       "      <td>10</td>\n",
       "      <td>7.256981</td>\n",
       "      <td>1.036816</td>\n",
       "    </tr>\n",
       "  </tbody>\n",
       "</table>\n",
       "</div>"
      ],
      "text/plain": [
       "   ni        n'i  (ni - n'i)^2 / n'i\n",
       "0   5   2.671117            2.030498\n",
       "1   5   5.748648            0.097497\n",
       "2   8   9.497884            0.236227\n",
       "3  13  12.047895            0.075242\n",
       "4  14  11.733710            0.437719\n",
       "5   5   8.774000            1.623328\n",
       "6  10   7.256981            1.036816"
      ]
     },
     "execution_count": 66,
     "metadata": {},
     "output_type": "execute_result"
    }
   ],
   "source": [
    "# Создадим новый датафрейм df6 состоящий из двух колонок [\"ni\", \"n'i\"]:\n",
    "df7 = df6[[\"ni\", \"n'i\"]]\n",
    "\n",
    "# Добавим в df7 колонку \"(ni - n'i)^2 / n'i\":\n",
    "df7 = df7.assign(i1 = lambda x: (x[\"ni\"] - x[\"n'i\"]) ** 2 / x[\"n'i\"])\n",
    "\n",
    "# Переименовываем колонку:\n",
    "df7 = df7.rename(columns = {\"i1\" : \"(ni - n'i)^2 / n'i\"})\n",
    "\n",
    "df7"
   ]
  },
  {
   "cell_type": "code",
   "execution_count": null,
   "id": "4470acbd",
   "metadata": {},
   "outputs": [],
   "source": []
  },
  {
   "cell_type": "code",
   "execution_count": 67,
   "id": "1591a326",
   "metadata": {},
   "outputs": [
    {
     "data": {
      "text/plain": [
       "5.537326206459158"
      ]
     },
     "execution_count": 67,
     "metadata": {},
     "output_type": "execute_result"
    }
   ],
   "source": [
    "# Найдём сумму по колонке \"(ni - n'i)^2 / n'i\" (Расчитанный критерий):\n",
    "Xresult = df7[\"(ni - n'i)^2 / n'i\"].sum()\n",
    "\n",
    "Xresult"
   ]
  },
  {
   "cell_type": "code",
   "execution_count": null,
   "id": "5051fa8d",
   "metadata": {},
   "outputs": [],
   "source": []
  },
  {
   "cell_type": "code",
   "execution_count": 68,
   "id": "c832b170",
   "metadata": {},
   "outputs": [
    {
     "name": "stdout",
     "output_type": "stream",
     "text": [
      "На уровне значимости 0.2 гипотезу о нормальном распределении генеральной совокупности ПРИНИМАЕМ.              \n",
      "Вследствие того, что Xresult <= Xkr:\n",
      "\n",
      "5.537 <= 5.989              \n"
     ]
    }
   ],
   "source": [
    "# Сравним критическое значение критерия Пирсона - Xkr и наблюдаемое значение Xresult\n",
    "\n",
    "if (Xresult > Xkr):\n",
    "    result = \"ОТВЕРГАЕМ\"\n",
    "    symbol = \">\"\n",
    "    \n",
    "    string_ans = 'На уровне значимости {0} гипотезу о нормальном распределении генеральной совокупности {1}.\\\n",
    "              \\nВследствие того, что Xresult {2} Xkr:\\n\\n{3} {4} {5}\\\n",
    "              '.format(a_coeff, result, symbol, round(Xresult, 3), symbol, round(Xkr, 3))\n",
    "    \n",
    "else:\n",
    "    result = \"ПРИНИМАЕМ\"\n",
    "    symbol = \"<=\"\n",
    "    \n",
    "    string_ans = 'На уровне значимости {0} гипотезу о нормальном распределении генеральной совокупности {1}.\\\n",
    "              \\nВследствие того, что Xresult {2} Xkr:\\n\\n{3} {4} {5}\\\n",
    "              '.format(a_coeff, result, symbol, round(Xresult, 3), symbol, round(Xkr, 3))\n",
    "\n",
    "print(string_ans)"
   ]
  },
  {
   "cell_type": "code",
   "execution_count": null,
   "id": "828295cd",
   "metadata": {},
   "outputs": [],
   "source": []
  },
  {
   "cell_type": "code",
   "execution_count": null,
   "id": "1cf6784b",
   "metadata": {},
   "outputs": [],
   "source": []
  },
  {
   "cell_type": "code",
   "execution_count": 69,
   "id": "8f6522d3",
   "metadata": {},
   "outputs": [],
   "source": [
    "# \n",
    "# \n",
    "# Пункт седьмой: Найти доверительный интервал для математического ожидания генеральной\n",
    "# совокупности с надежностью \"y\".\n",
    "# \n",
    "# "
   ]
  },
  {
   "cell_type": "code",
   "execution_count": null,
   "id": "65d75a5a",
   "metadata": {},
   "outputs": [],
   "source": []
  },
  {
   "cell_type": "code",
   "execution_count": 70,
   "id": "a2098101",
   "metadata": {},
   "outputs": [
    {
     "data": {
      "text/plain": [
       "0.9"
      ]
     },
     "execution_count": 70,
     "metadata": {},
     "output_type": "execute_result"
    }
   ],
   "source": [
    "# Наш коэффициент надёжности \"y\":\n",
    "y_coeff"
   ]
  },
  {
   "cell_type": "code",
   "execution_count": null,
   "id": "452d3d2b",
   "metadata": {},
   "outputs": [],
   "source": []
  },
  {
   "cell_type": "code",
   "execution_count": 71,
   "id": "349a7b49",
   "metadata": {},
   "outputs": [],
   "source": [
    "# \n",
    "# Первый способ (С помощью функции Лапласса):\n",
    "# "
   ]
  },
  {
   "cell_type": "code",
   "execution_count": null,
   "id": "4275cca1",
   "metadata": {},
   "outputs": [],
   "source": []
  },
  {
   "cell_type": "code",
   "execution_count": 72,
   "id": "52016ce9",
   "metadata": {},
   "outputs": [
    {
     "data": {
      "text/plain": [
       "1.65"
      ]
     },
     "execution_count": 72,
     "metadata": {},
     "output_type": "execute_result"
    }
   ],
   "source": [
    "# Тогда найдём такой аргумент \"t\" от функции Лапласса, при котором\n",
    "# Ф(t) = y_coeff / 2:\n",
    "t = 1.65\n",
    "\n",
    "t"
   ]
  },
  {
   "cell_type": "code",
   "execution_count": null,
   "id": "adf8fb5d",
   "metadata": {},
   "outputs": [],
   "source": []
  },
  {
   "cell_type": "code",
   "execution_count": 73,
   "id": "5b34b3fa",
   "metadata": {},
   "outputs": [
    {
     "data": {
      "text/plain": [
       "0.4505285319663519"
      ]
     },
     "execution_count": 73,
     "metadata": {},
     "output_type": "execute_result"
    }
   ],
   "source": [
    "# Проверим правильное ли значение \"t\" мы нашли:\n",
    "stats.norm.cdf(t) - 0.5"
   ]
  },
  {
   "cell_type": "code",
   "execution_count": null,
   "id": "28483aa5",
   "metadata": {},
   "outputs": [],
   "source": []
  },
  {
   "cell_type": "code",
   "execution_count": 76,
   "id": "074888a9",
   "metadata": {},
   "outputs": [
    {
     "data": {
      "text/plain": [
       "556.6327081591415"
      ]
     },
     "execution_count": 76,
     "metadata": {},
     "output_type": "execute_result"
    }
   ],
   "source": [
    "# Найдем нижнюю границу интервала доверия:\n",
    "# mx_min = selective_mean - (selective_std * t) / (all_count ** 0.5)\n",
    "mx_min = selective_mean - (s * t) / (all_count ** 0.5)\n",
    "\n",
    "mx_min"
   ]
  },
  {
   "cell_type": "code",
   "execution_count": null,
   "id": "ad8c0240",
   "metadata": {},
   "outputs": [],
   "source": []
  },
  {
   "cell_type": "code",
   "execution_count": 77,
   "id": "29e8b9cf",
   "metadata": {},
   "outputs": [
    {
     "data": {
      "text/plain": [
       "561.2422918408585"
      ]
     },
     "execution_count": 77,
     "metadata": {},
     "output_type": "execute_result"
    }
   ],
   "source": [
    "# Найдем верхнюю границу интервала доверия:\n",
    "# mx_max = selective_mean + (selective_std * t) / (all_count ** 0.5)\n",
    "mx_max = selective_mean + (s * t) / (all_count ** 0.5)\n",
    "\n",
    "mx_max"
   ]
  },
  {
   "cell_type": "code",
   "execution_count": null,
   "id": "96ae85f9",
   "metadata": {},
   "outputs": [],
   "source": []
  },
  {
   "cell_type": "code",
   "execution_count": null,
   "id": "f8fc7c29",
   "metadata": {},
   "outputs": [],
   "source": []
  },
  {
   "cell_type": "code",
   "execution_count": 326,
   "id": "8e5e3034",
   "metadata": {},
   "outputs": [],
   "source": [
    "# \n",
    "# Второй способ (С помощью распределения Стъюдента):\n",
    "# "
   ]
  },
  {
   "cell_type": "code",
   "execution_count": null,
   "id": "03e822bd",
   "metadata": {},
   "outputs": [],
   "source": []
  },
  {
   "cell_type": "code",
   "execution_count": 78,
   "id": "f6ea8bb0",
   "metadata": {},
   "outputs": [
    {
     "data": {
      "text/plain": [
       "557.147305319246"
      ]
     },
     "execution_count": 78,
     "metadata": {},
     "output_type": "execute_result"
    }
   ],
   "source": [
    "# Расчитываем минимальную границу мат. ожидания:\n",
    "mx_min = selective_mean - (s * 1.2816) / (all_count ** 0.5)\n",
    "\n",
    "mx_min"
   ]
  },
  {
   "cell_type": "code",
   "execution_count": null,
   "id": "363c0d7f",
   "metadata": {},
   "outputs": [],
   "source": []
  },
  {
   "cell_type": "code",
   "execution_count": 79,
   "id": "996c46f5",
   "metadata": {},
   "outputs": [
    {
     "data": {
      "text/plain": [
       "560.727694680754"
      ]
     },
     "execution_count": 79,
     "metadata": {},
     "output_type": "execute_result"
    }
   ],
   "source": [
    "# Расчитываем максимальную границу мат. ожидания:\n",
    "mx_max = selective_mean + (s * 1.2816) / (all_count ** 0.5)\n",
    "\n",
    "mx_max"
   ]
  },
  {
   "cell_type": "code",
   "execution_count": null,
   "id": "28613c9a",
   "metadata": {},
   "outputs": [],
   "source": []
  },
  {
   "cell_type": "code",
   "execution_count": 80,
   "id": "fff1a3b1",
   "metadata": {},
   "outputs": [
    {
     "name": "stdout",
     "output_type": "stream",
     "text": [
      "Доверительный интервал для генеральной совокупности с надежностью y = 0.9:              \n",
      "\n",
      "557.15 < M(x) < 560.73\n"
     ]
    }
   ],
   "source": [
    "# Тогда доверительный интервал с точностью y будет записан следующим образом:\n",
    "\n",
    "string_ans = f\"Доверительный интервал для генеральной совокупности с надежностью y = {y_coeff}:\\\n",
    "              \\n\\n{round(mx_min, 2)} < M(x) < {round(mx_max, 2)}\"\n",
    "\n",
    "print(string_ans)"
   ]
  },
  {
   "cell_type": "code",
   "execution_count": null,
   "id": "84b32f26",
   "metadata": {},
   "outputs": [],
   "source": []
  }
 ],
 "metadata": {
  "kernelspec": {
   "display_name": "venv",
   "language": "python",
   "name": "venv"
  },
  "language_info": {
   "codemirror_mode": {
    "name": "ipython",
    "version": 3
   },
   "file_extension": ".py",
   "mimetype": "text/x-python",
   "name": "python",
   "nbconvert_exporter": "python",
   "pygments_lexer": "ipython3",
   "version": "3.9.0"
  }
 },
 "nbformat": 4,
 "nbformat_minor": 5
}
